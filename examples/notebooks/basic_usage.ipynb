{
 "cells": [
  {
   "cell_type": "markdown",
   "metadata": {},
   "source": [
    "# SPARQL Agent: Basic Usage\n",
    "\n",
    "This notebook demonstrates basic usage of SPARQL Agent for querying knowledge graphs.\n",
    "\n",
    "## Setup\n",
    "\n",
    "First, install SPARQL Agent:"
   ]
  },
  {
   "cell_type": "code",
   "execution_count": null,
   "metadata": {},
   "outputs": [],
   "source": [
    "# Install if needed\n",
    "# !pip install sparql-agent"
   ]
  },
  {
   "cell_type": "code",
   "execution_count": null,
   "metadata": {},
   "outputs": [],
   "source": [
    "import os\n",
    "from sparql_agent import SPARQLAgent\n",
    "from sparql_agent.formatting import ResultFormatter\n",
    "import pandas as pd\n",
    "\n",
    "# Set API key (optional for basic queries)\n",
    "# os.environ['ANTHROPIC_API_KEY'] = 'your-key-here'"
   ]
  },
  {
   "cell_type": "markdown",
   "metadata": {},
   "source": [
    "## Example 1: Basic Query\n",
    "\n",
    "Query UniProt for protein information:"
   ]
  },
  {
   "cell_type": "code",
   "execution_count": null,
   "metadata": {},
   "outputs": [],
   "source": [
    "# Initialize agent\n",
    "agent = SPARQLAgent(endpoint=\"https://sparql.uniprot.org/sparql\")\n",
    "\n",
    "# Execute query\n",
    "sparql = \"\"\"\n",
    "PREFIX up: <http://purl.uniprot.org/core/>\n",
    "PREFIX rdfs: <http://www.w3.org/2000/01/rdf-schema#>\n",
    "PREFIX taxon: <http://purl.uniprot.org/taxonomy/>\n",
    "\n",
    "SELECT ?protein ?name ?organism\n",
    "WHERE {\n",
    "    ?protein a up:Protein ;\n",
    "             rdfs:label ?name ;\n",
    "             up:organism ?organism .\n",
    "    ?organism a up:Taxon ;\n",
    "              up:scientificName \"Homo sapiens\" .\n",
    "}\n",
    "LIMIT 10\n",
    "\"\"\"\n",
    "\n",
    "results = agent.execute_sparql(sparql)\n",
    "print(f\"Found {len(results)} proteins\")\n",
    "\n",
    "# Display as DataFrame\n",
    "df = pd.DataFrame(results)\n",
    "df.head()"
   ]
  },
  {
   "cell_type": "markdown",
   "metadata": {},
   "source": [
    "## Example 2: Schema Discovery\n",
    "\n",
    "Discover what's available in the endpoint:"
   ]
  },
  {
   "cell_type": "code",
   "execution_count": null,
   "metadata": {},
   "outputs": [],
   "source": [
    "from sparql_agent.discovery import ConnectivityChecker\n",
    "\n",
    "checker = ConnectivityChecker(\"https://sparql.uniprot.org/sparql\")\n",
    "\n",
    "# Check connectivity\n",
    "if checker.check_connectivity():\n",
    "    print(\"✓ Endpoint is accessible\")\n",
    "    \n",
    "    # Get statistics\n",
    "    stats = checker.get_statistics()\n",
    "    print(f\"\\nEndpoint Statistics:\")\n",
    "    print(f\"  Total triples: {stats.get('triple_count', 'N/A'):,}\")\n",
    "    print(f\"  Classes: {stats.get('class_count', 'N/A')}\")\n",
    "    print(f\"  Properties: {stats.get('property_count', 'N/A')}\")"
   ]
  },
  {
   "cell_type": "markdown",
   "metadata": {},
   "source": [
    "## Example 3: Working with Ontologies\n",
    "\n",
    "Use OLS4 to search for ontology terms:"
   ]
  },
  {
   "cell_type": "code",
   "execution_count": null,
   "metadata": {},
   "outputs": [],
   "source": [
    "from sparql_agent.ontology import OLSClient\n",
    "\n",
    "ols = OLSClient()\n",
    "\n",
    "# Search for terms\n",
    "terms = ols.search(\"diabetes\", ontology=\"efo\", limit=5)\n",
    "\n",
    "print(\"Diabetes-related terms in EFO:\")\n",
    "for term in terms:\n",
    "    print(f\"\\n{term['label']}\")\n",
    "    print(f\"  IRI: {term['iri']}\")\n",
    "    print(f\"  Definition: {term.get('definition', 'N/A')[:100]}...\")"
   ]
  },
  {
   "cell_type": "markdown",
   "metadata": {},
   "source": [
    "## Example 4: Formatting Results\n",
    "\n",
    "Format query results in different ways:"
   ]
  },
  {
   "cell_type": "code",
   "execution_count": null,
   "metadata": {},
   "outputs": [],
   "source": [
    "formatter = ResultFormatter()\n",
    "\n",
    "# Get some data\n",
    "sparql = \"\"\"\n",
    "SELECT ?protein ?name\n",
    "WHERE {\n",
    "    ?protein a up:Protein ;\n",
    "             rdfs:label ?name .\n",
    "    FILTER(CONTAINS(?name, \"insulin\"))\n",
    "}\n",
    "LIMIT 5\n",
    "\"\"\"\n",
    "\n",
    "results = agent.execute_sparql(sparql)\n",
    "\n",
    "# Format as table\n",
    "print(\"Table format:\")\n",
    "print(formatter.to_table(results))\n",
    "\n",
    "# Convert to DataFrame\n",
    "df = formatter.to_dataframe(results)\n",
    "display(df)"
   ]
  },
  {
   "cell_type": "markdown",
   "metadata": {},
   "source": [
    "## Example 5: Multiple Endpoints\n",
    "\n",
    "Query different endpoints:"
   ]
  },
  {
   "cell_type": "code",
   "execution_count": null,
   "metadata": {},
   "outputs": [],
   "source": [
    "# UniProt\n",
    "uniprot = SPARQLAgent(endpoint=\"https://sparql.uniprot.org/sparql\")\n",
    "uniprot_results = uniprot.execute_sparql(\n",
    "    \"SELECT ?p WHERE { ?p a up:Protein } LIMIT 5\"\n",
    ")\n",
    "print(f\"UniProt: {len(uniprot_results)} results\")\n",
    "\n",
    "# Wikidata\n",
    "wikidata = SPARQLAgent(endpoint=\"https://query.wikidata.org/sparql\")\n",
    "wikidata_results = wikidata.execute_sparql(\n",
    "    \"SELECT ?item WHERE { ?item wdt:P31 wd:Q7187 } LIMIT 5\"\n",
    ")\n",
    "print(f\"Wikidata: {len(wikidata_results)} results\")"
   ]
  },
  {
   "cell_type": "markdown",
   "metadata": {},
   "source": [
    "## Example 6: Error Handling"
   ]
  },
  {
   "cell_type": "code",
   "execution_count": null,
   "metadata": {},
   "outputs": [],
   "source": [
    "from sparql_agent.core import EndpointError, TimeoutError\n",
    "\n",
    "try:\n",
    "    # This might timeout or fail\n",
    "    results = agent.execute_sparql(\n",
    "        \"SELECT * WHERE { ?s ?p ?o }\"  # Very broad query\n",
    "    )\n",
    "except TimeoutError as e:\n",
    "    print(f\"Query timeout: {e}\")\n",
    "except EndpointError as e:\n",
    "    print(f\"Endpoint error: {e}\")\n",
    "except Exception as e:\n",
    "    print(f\"Error: {e}\")"
   ]
  },
  {
   "cell_type": "markdown",
   "metadata": {},
   "source": [
    "## Next Steps\n",
    "\n",
    "- Explore [biomedical queries notebook](biomedical_queries.ipynb)\n",
    "- Try [federated queries notebook](advanced_federation.ipynb)\n",
    "- Read the [tutorials](https://github.com/yourusername/sparql-agent/docs/tutorials)"
   ]
  }
 ],
 "metadata": {
  "kernelspec": {
   "display_name": "Python 3",
   "language": "python",
   "name": "python3"
  },
  "language_info": {
   "codemirror_mode": {
    "name": "ipython",
    "version": 3
   },
   "file_extension": ".py",
   "mimetype": "text/x-python",
   "name": "python",
   "nbconvert_exporter": "python",
   "pygments_lexer": "ipython3",
   "version": "3.11.0"
  }
 },
 "nbformat": 4,
 "nbformat_minor": 4
}
